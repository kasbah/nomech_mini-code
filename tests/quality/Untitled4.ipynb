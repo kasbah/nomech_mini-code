{
 "metadata": {
  "name": "Untitled4"
 },
 "nbformat": 3,
 "nbformat_minor": 0,
 "worksheets": []
}